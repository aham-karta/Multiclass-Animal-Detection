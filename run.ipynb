{
 "cells": [
  {
   "cell_type": "code",
   "execution_count": null,
   "metadata": {},
   "outputs": [],
   "source": [
    "%pip install torch torchvision torchaudio --index-url https://download.pytorch.org/whl/cu118"
   ]
  },
  {
   "cell_type": "code",
   "execution_count": 2,
   "metadata": {},
   "outputs": [],
   "source": [
    "import torch\n",
    "import torch.nn as nn\n",
    "import torch.optim as optim\n",
    "import torchvision\n",
    "from torchvision import datasets, transforms\n",
    "import torch.nn.functional as F\n",
    "from torch.utils.data import DataLoader"
   ]
  },
  {
   "cell_type": "code",
   "execution_count": 3,
   "metadata": {},
   "outputs": [],
   "source": [
    "transform = transforms.Compose([\n",
    "    transforms.Resize((224,224)),\n",
    "    transforms.RandomHorizontalFlip(),\n",
    "    transforms.ToTensor()\n",
    "])\n",
    "\n",
    "data=datasets.ImageFolder('C:\\\\Users\\\\srisi\\\\OneDrive\\\\Desktop\\\\sidxt\\\\hub\\\\TryCNN\\\\animals\\\\animals',transform=transform)"
   ]
  },
  {
   "cell_type": "code",
   "execution_count": 4,
   "metadata": {},
   "outputs": [
    {
     "name": "stdout",
     "output_type": "stream",
     "text": [
      "(tensor([[[0.7412, 0.7373, 0.7412,  ..., 0.8039, 0.7882, 0.7765],\n",
      "         [0.7412, 0.7373, 0.7373,  ..., 0.8118, 0.7882, 0.7843],\n",
      "         [0.7451, 0.7451, 0.7373,  ..., 0.8118, 0.7882, 0.7961],\n",
      "         ...,\n",
      "         [0.7137, 0.6118, 0.6392,  ..., 0.7765, 0.6941, 0.7451],\n",
      "         [0.6275, 0.5216, 0.6902,  ..., 0.7843, 0.6980, 0.7333],\n",
      "         [0.5176, 0.5569, 0.6510,  ..., 0.7294, 0.6627, 0.6706]],\n",
      "\n",
      "        [[0.7098, 0.7059, 0.7098,  ..., 0.7412, 0.7176, 0.7059],\n",
      "         [0.7098, 0.7059, 0.7098,  ..., 0.7569, 0.7294, 0.7216],\n",
      "         [0.7137, 0.7137, 0.7137,  ..., 0.7686, 0.7490, 0.7490],\n",
      "         ...,\n",
      "         [0.6706, 0.5412, 0.5922,  ..., 0.7686, 0.7059, 0.7529],\n",
      "         [0.6039, 0.4745, 0.6667,  ..., 0.7882, 0.7333, 0.7373],\n",
      "         [0.4941, 0.5412, 0.6353,  ..., 0.7490, 0.7059, 0.6667]],\n",
      "\n",
      "        [[0.6275, 0.6235, 0.6235,  ..., 0.6471, 0.6275, 0.6118],\n",
      "         [0.6275, 0.6235, 0.6157,  ..., 0.6745, 0.6510, 0.6510],\n",
      "         [0.6314, 0.6314, 0.6157,  ..., 0.6980, 0.6784, 0.6863],\n",
      "         ...,\n",
      "         [0.5647, 0.3961, 0.4431,  ..., 0.6118, 0.5529, 0.6196],\n",
      "         [0.4902, 0.3255, 0.5216,  ..., 0.6275, 0.5686, 0.5882],\n",
      "         [0.3804, 0.3725, 0.4784,  ..., 0.5804, 0.5059, 0.4745]]]), 0)\n"
     ]
    }
   ],
   "source": [
    "print(data[0])"
   ]
  },
  {
   "cell_type": "code",
   "execution_count": 5,
   "metadata": {},
   "outputs": [
    {
     "data": {
      "text/plain": [
       "240"
      ]
     },
     "execution_count": 5,
     "metadata": {},
     "output_type": "execute_result"
    }
   ],
   "source": [
    "train_size = int(0.8 * len(data))\n",
    "test_size = len(data) - train_size\n",
    "train_size"
   ]
  },
  {
   "cell_type": "code",
   "execution_count": 6,
   "metadata": {},
   "outputs": [],
   "source": [
    "train_data,test_data=torch.utils.data.random_split(data,[train_size,test_size])"
   ]
  },
  {
   "cell_type": "code",
   "execution_count": 7,
   "metadata": {},
   "outputs": [],
   "source": [
    "train_loader = DataLoader(train_data, batch_size=5, shuffle=True)\n",
    "test_loader = DataLoader(test_data, batch_size=5, shuffle=False)"
   ]
  },
  {
   "cell_type": "code",
   "execution_count": 8,
   "metadata": {},
   "outputs": [
    {
     "data": {
      "text/plain": [
       "Linear(in_features=256, out_features=90, bias=True)"
      ]
     },
     "execution_count": 8,
     "metadata": {},
     "output_type": "execute_result"
    }
   ],
   "source": [
    "con1=nn.Conv2d(3,32,3)\n",
    "con2=nn.Conv2d(32,64,3)\n",
    "con3=nn.Conv2d(64,128,3)\n",
    "\n",
    "fc1=nn.Linear(26*26*128, 512)\n",
    "fc2=nn.Linear(512, 256)\n",
    "fc3=nn.Linear(256, 90)\n",
    "\n",
    "pool = nn.MaxPool2d(2)\n",
    "\n",
    "device = torch.device(\"cuda\")\n",
    "\n",
    "con1.to(device)\n",
    "con2.to(device)\n",
    "con3.to(device)\n",
    "\n",
    "fc1.to(device)\n",
    "fc2.to(device)\n",
    "fc3.to(device)"
   ]
  },
  {
   "cell_type": "code",
   "execution_count": 9,
   "metadata": {},
   "outputs": [],
   "source": [
    "def forward(x):\n",
    "    x = pool(F.relu(con1(x)))\n",
    "    x = pool(F.relu(con2(x)))\n",
    "    x = pool(F.relu(con3(x)))\n",
    "\n",
    "    x = x.view(x.size(0), -1)\n",
    "\n",
    "    x = F.relu(fc1(x))\n",
    "    x = F.relu(fc2(x))\n",
    "    x = fc3(x)\n",
    "    return x\n",
    "criterion = nn.CrossEntropyLoss()\n",
    "optimizer = torch.optim.Adam(list(con1.parameters()) + list(con2.parameters()) + list(con3.parameters()) + \n",
    "                       list(fc1.parameters()) + list(fc2.parameters()) + list(fc3.parameters()))\n"
   ]
  },
  {
   "cell_type": "code",
   "execution_count": 10,
   "metadata": {},
   "outputs": [
    {
     "name": "stdout",
     "output_type": "stream",
     "text": [
      "Epoch 1, Loss: 2.0232409362991652, Accuracy: 25.0%\n",
      "Epoch 2, Loss: 1.5756691383818786, Accuracy: 32.083333333333336%\n",
      "Epoch 3, Loss: 1.3113444931805134, Accuracy: 45.0%\n",
      "Epoch 4, Loss: 1.312202338129282, Accuracy: 50.416666666666664%\n",
      "Epoch 5, Loss: 1.221193299939235, Accuracy: 50.0%\n",
      "Epoch 6, Loss: 1.057222173238794, Accuracy: 60.416666666666664%\n",
      "Epoch 7, Loss: 0.7910472620278597, Accuracy: 74.58333333333333%\n",
      "Epoch 8, Loss: 0.6657809124638637, Accuracy: 78.33333333333333%\n",
      "Epoch 9, Loss: 0.7357299323193729, Accuracy: 78.75%\n",
      "Epoch 10, Loss: 0.4309390818234533, Accuracy: 85.83333333333333%\n",
      "Epoch 11, Loss: 0.349677730545712, Accuracy: 88.33333333333333%\n",
      "Epoch 12, Loss: 0.38477722912405926, Accuracy: 87.5%\n",
      "Epoch 13, Loss: 0.18621399237114625, Accuracy: 96.66666666666667%\n",
      "Epoch 14, Loss: 0.20018116187808724, Accuracy: 93.75%\n",
      "Epoch 15, Loss: 0.14055039779236722, Accuracy: 93.75%\n",
      "Epoch 16, Loss: 0.13222124631264856, Accuracy: 96.25%\n",
      "Epoch 17, Loss: 0.06621219869036092, Accuracy: 97.5%\n",
      "Epoch 18, Loss: 0.0363264889238053, Accuracy: 98.75%\n",
      "Epoch 19, Loss: 0.14719232100187676, Accuracy: 97.08333333333333%\n",
      "Epoch 20, Loss: 0.08338732762264793, Accuracy: 97.08333333333333%\n",
      "Epoch 21, Loss: 0.482215374368631, Accuracy: 90.83333333333333%\n",
      "Epoch 22, Loss: 0.1325279882103132, Accuracy: 96.25%\n",
      "Epoch 23, Loss: 0.05695338070358957, Accuracy: 98.75%\n",
      "Epoch 24, Loss: 0.08970317289008041, Accuracy: 97.91666666666667%\n",
      "Epoch 25, Loss: 0.09158581214542967, Accuracy: 96.66666666666667%\n",
      "Epoch 26, Loss: 0.26357882307566644, Accuracy: 94.58333333333333%\n",
      "Epoch 27, Loss: 0.0790612532130505, Accuracy: 97.91666666666667%\n",
      "Epoch 28, Loss: 0.05395448247530036, Accuracy: 97.91666666666667%\n",
      "Epoch 29, Loss: 0.04451615751553047, Accuracy: 98.33333333333333%\n",
      "Epoch 30, Loss: 0.045360620476997106, Accuracy: 98.75%\n",
      "Epoch 31, Loss: 0.1628164354672966, Accuracy: 96.25%\n",
      "Epoch 32, Loss: 0.04684828235167515, Accuracy: 98.75%\n",
      "Epoch 33, Loss: 0.13755520080065745, Accuracy: 99.16666666666667%\n",
      "Epoch 34, Loss: 0.6858971800217356, Accuracy: 82.91666666666667%\n",
      "Epoch 35, Loss: 0.3864786790800281, Accuracy: 87.91666666666667%\n",
      "Epoch 36, Loss: 0.17417704649460575, Accuracy: 95.0%\n",
      "Epoch 37, Loss: 0.08812584764092908, Accuracy: 98.75%\n",
      "Epoch 38, Loss: 0.11507733393845143, Accuracy: 97.5%\n",
      "Epoch 39, Loss: 0.0619617596447218, Accuracy: 98.33333333333333%\n",
      "Epoch 40, Loss: 0.15403427126024857, Accuracy: 95.83333333333333%\n",
      "Epoch 41, Loss: 0.06757550245151833, Accuracy: 97.91666666666667%\n",
      "Epoch 42, Loss: 0.14327631334133173, Accuracy: 97.91666666666667%\n",
      "Epoch 43, Loss: 0.05003383628142899, Accuracy: 98.33333333333333%\n",
      "Epoch 44, Loss: 0.022341376147500352, Accuracy: 99.16666666666667%\n",
      "Epoch 45, Loss: 0.00817684455946995, Accuracy: 99.58333333333333%\n",
      "Epoch 46, Loss: 0.00494868841328137, Accuracy: 100.0%\n",
      "Epoch 47, Loss: 0.010781553684626003, Accuracy: 99.58333333333333%\n",
      "Epoch 48, Loss: 0.010707659708066272, Accuracy: 99.58333333333333%\n",
      "Epoch 49, Loss: 0.0019370014618425024, Accuracy: 100.0%\n",
      "Epoch 50, Loss: 0.0004568220740911085, Accuracy: 100.0%\n",
      "Epoch 51, Loss: 0.00017991046439765532, Accuracy: 100.0%\n",
      "Epoch 52, Loss: 0.0001257291849135663, Accuracy: 100.0%\n",
      "Epoch 53, Loss: 0.00012155980557807904, Accuracy: 100.0%\n",
      "Epoch 54, Loss: 0.00011626217694156911, Accuracy: 100.0%\n",
      "Epoch 55, Loss: 9.862339888377925e-05, Accuracy: 100.0%\n",
      "Epoch 56, Loss: 6.279217470857763e-05, Accuracy: 100.0%\n",
      "Epoch 57, Loss: 7.407993097123071e-05, Accuracy: 100.0%\n",
      "Epoch 58, Loss: 4.265485643421366e-05, Accuracy: 100.0%\n",
      "Epoch 59, Loss: 3.8009194433419324e-05, Accuracy: 100.0%\n",
      "Epoch 60, Loss: 5.4336103495182066e-05, Accuracy: 100.0%\n",
      "Epoch 61, Loss: 4.6208602845136206e-05, Accuracy: 100.0%\n",
      "Epoch 62, Loss: 4.099690533713544e-05, Accuracy: 100.0%\n",
      "Epoch 63, Loss: 3.488639052995346e-05, Accuracy: 100.0%\n",
      "Epoch 64, Loss: 2.4589303546059444e-05, Accuracy: 100.0%\n",
      "Epoch 65, Loss: 2.6649502936330432e-05, Accuracy: 100.0%\n",
      "Epoch 66, Loss: 2.0395486159952014e-05, Accuracy: 100.0%\n",
      "Epoch 67, Loss: 2.061445174413497e-05, Accuracy: 100.0%\n",
      "Epoch 68, Loss: 1.6841124621598997e-05, Accuracy: 100.0%\n",
      "Epoch 69, Loss: 1.5561871274050176e-05, Accuracy: 100.0%\n",
      "Epoch 70, Loss: 1.6475822645745097e-05, Accuracy: 100.0%\n",
      "Epoch 71, Loss: 1.3373433570181467e-05, Accuracy: 100.0%\n",
      "Epoch 72, Loss: 9.725995004927768e-06, Accuracy: 100.0%\n",
      "Epoch 73, Loss: 1.0766703998725072e-05, Accuracy: 100.0%\n",
      "Epoch 74, Loss: 1.2461459360106156e-05, Accuracy: 100.0%\n",
      "Epoch 75, Loss: 1.056109215509989e-05, Accuracy: 100.0%\n",
      "Epoch 76, Loss: 9.10416564670058e-06, Accuracy: 100.0%\n",
      "Epoch 77, Loss: 8.097154988654745e-06, Accuracy: 100.0%\n",
      "Epoch 78, Loss: 7.230494710741553e-06, Accuracy: 100.0%\n",
      "Epoch 79, Loss: 7.916436021530396e-06, Accuracy: 100.0%\n",
      "Epoch 80, Loss: 7.736579663427298e-06, Accuracy: 100.0%\n",
      "Epoch 81, Loss: 5.397356931391428e-06, Accuracy: 100.0%\n",
      "Epoch 82, Loss: 7.702492557992713e-06, Accuracy: 100.0%\n",
      "Epoch 83, Loss: 5.684459049692947e-06, Accuracy: 100.0%\n",
      "Epoch 84, Loss: 4.804365631920031e-06, Accuracy: 100.0%\n",
      "Epoch 85, Loss: 5.144108072322832e-06, Accuracy: 100.0%\n",
      "Epoch 86, Loss: 5.024902916428431e-06, Accuracy: 100.0%\n",
      "Epoch 87, Loss: 5.6435711814166e-06, Accuracy: 100.0%\n",
      "Epoch 88, Loss: 5.708798722858788e-06, Accuracy: 100.0%\n",
      "Epoch 89, Loss: 5.192119273411677e-06, Accuracy: 100.0%\n",
      "Epoch 90, Loss: 3.6327546582004544e-06, Accuracy: 100.0%\n",
      "Epoch 91, Loss: 3.833912454842547e-06, Accuracy: 100.0%\n",
      "Epoch 92, Loss: 4.199944543037404e-06, Accuracy: 100.0%\n",
      "Epoch 93, Loss: 3.93078818576124e-06, Accuracy: 100.0%\n",
      "Epoch 94, Loss: 3.2781331053370146e-06, Accuracy: 100.0%\n",
      "Epoch 95, Loss: 3.900443123372455e-06, Accuracy: 100.0%\n",
      "Epoch 96, Loss: 3.8626270051356215e-06, Accuracy: 100.0%\n",
      "Epoch 97, Loss: 3.577564524033979e-06, Accuracy: 100.0%\n",
      "Epoch 98, Loss: 3.019807438257397e-06, Accuracy: 100.0%\n",
      "Epoch 99, Loss: 3.1127668538299957e-06, Accuracy: 100.0%\n",
      "Epoch 100, Loss: 3.7325340773719518e-06, Accuracy: 100.0%\n"
     ]
    }
   ],
   "source": [
    "for epoch in range(100):\n",
    "    running_loss = 0.0\n",
    "    correct = 0\n",
    "    total = 0\n",
    "    \n",
    "    for inputs, labels in train_loader:\n",
    "        inputs, labels = inputs.to(device), labels.to(device)\n",
    "        \n",
    "        optimizer.zero_grad()\n",
    "        outputs = forward(inputs)\n",
    "        \n",
    "        if labels.dim() > 1:\n",
    "            labels = labels.squeeze(1)\n",
    "        \n",
    "        loss = criterion(outputs, labels)\n",
    "        loss.backward()\n",
    "        optimizer.step()\n",
    "        \n",
    "        running_loss += loss.item()\n",
    "        \n",
    "        _, predicted = torch.max(outputs, 1)\n",
    "        total += labels.size(0)\n",
    "        correct += (predicted == labels).sum().item()\n",
    "    \n",
    "    epoch_loss = running_loss / len(train_loader)\n",
    "    epoch_accuracy = 100 * correct / total\n",
    "    \n",
    "    print(f\"Epoch {epoch + 1}, Loss: {epoch_loss}, Accuracy: {epoch_accuracy}%\")"
   ]
  },
  {
   "cell_type": "code",
   "execution_count": 11,
   "metadata": {},
   "outputs": [],
   "source": [
    "torch.save({\n",
    "    'con1_state_dict': con1.state_dict(),\n",
    "    'con2_state_dict': con2.state_dict(),\n",
    "    'con3_state_dict': con3.state_dict(),\n",
    "    'fc1_state_dict': fc1.state_dict(),\n",
    "    'fc2_state_dict': fc2.state_dict(),\n",
    "    'fc3_state_dict': fc3.state_dict(),\n",
    "    'optimizer_state_dict': optimizer.state_dict()\n",
    "}, 'run.pth')"
   ]
  }
 ],
 "metadata": {
  "kernelspec": {
   "display_name": "Python 3",
   "language": "python",
   "name": "python3"
  },
  "language_info": {
   "codemirror_mode": {
    "name": "ipython",
    "version": 3
   },
   "file_extension": ".py",
   "mimetype": "text/x-python",
   "name": "python",
   "nbconvert_exporter": "python",
   "pygments_lexer": "ipython3",
   "version": "3.9.11"
  }
 },
 "nbformat": 4,
 "nbformat_minor": 2
}
