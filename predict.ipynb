{
 "cells": [
  {
   "cell_type": "code",
   "execution_count": 3,
   "metadata": {},
   "outputs": [],
   "source": [
    "#giving good output but partially working on images from web"
   ]
  },
  {
   "cell_type": "code",
   "execution_count": 5,
   "metadata": {},
   "outputs": [
    {
     "name": "stdout",
     "output_type": "stream",
     "text": [
      "prediction: 2\n"
     ]
    }
   ],
   "source": [
    "import torch\n",
    "import torch.nn as nn\n",
    "from torchvision import transforms\n",
    "from PIL import Image\n",
    "\n",
    "# Define the transform\n",
    "transform = transforms.Compose([\n",
    "    transforms.Resize((224, 224)),\n",
    "    transforms.RandomHorizontalFlip(),\n",
    "    transforms.ToTensor()\n",
    "])\n",
    "\n",
    "def load_model(model_path):\n",
    "    checkpoint = torch.load(model_path)\n",
    "    con1 = nn.Conv2d(3, 32, 3)\n",
    "    con2 = nn.Conv2d(32, 64, 3)\n",
    "    con3 = nn.Conv2d(64, 128, 3)\n",
    "    fc1 = nn.Linear(26 * 26 * 128, 512)\n",
    "    fc2 = nn.Linear(512, 256)\n",
    "    fc3 = nn.Linear(256, 90)\n",
    "\n",
    "    con1.load_state_dict(checkpoint['con1_state_dict'])\n",
    "    con2.load_state_dict(checkpoint['con2_state_dict'])\n",
    "    con3.load_state_dict(checkpoint['con3_state_dict'])\n",
    "    fc1.load_state_dict(checkpoint['fc1_state_dict'])\n",
    "    fc2.load_state_dict(checkpoint['fc2_state_dict'])\n",
    "    fc3.load_state_dict(checkpoint['fc3_state_dict'])\n",
    "\n",
    "    model = nn.Sequential(\n",
    "        con1, nn.LeakyReLU(),\n",
    "        nn.MaxPool2d(2),\n",
    "        con2, nn.LeakyReLU(),\n",
    "        nn.MaxPool2d(2),\n",
    "        con3, nn.LeakyReLU(),\n",
    "        nn.MaxPool2d(2),\n",
    "        nn.Flatten(),\n",
    "        fc1, nn.LeakyReLU(),\n",
    "        fc2, nn.LeakyReLU(),\n",
    "        fc3, nn.Sigmoid()\n",
    "    )\n",
    "\n",
    "    model.eval()\n",
    "    return model\n",
    "\n",
    "def preprocess_image(image_path):\n",
    "    image = Image.open(image_path)\n",
    "    image = transform(image).unsqueeze(0)\n",
    "    return image\n",
    "\n",
    "def predict_image(image_path, model):\n",
    "    image_tensor = preprocess_image(image_path)\n",
    "    with torch.no_grad():\n",
    "        output = model(image_tensor)\n",
    "        _, prediction = torch.max(output, 1)\n",
    "        return prediction.item()\n",
    "\n",
    "if __name__ == \"__main__\":\n",
    "    model_path = 'run.pth'\n",
    "    image_path = 'C:\\\\Users\\\\srisi\\\\OneDrive\\\\Desktop\\\\sidxt\\\\hub\\\\TryCNN\\\\image.png'\n",
    "    \n",
    "    model = load_model(model_path)\n",
    "    \n",
    "    result = predict_image(image_path, model)\n",
    "    print(f\"prediction: {result}\")\n"
   ]
  }
 ],
 "metadata": {
  "kernelspec": {
   "display_name": ".venv",
   "language": "python",
   "name": "python3"
  },
  "language_info": {
   "codemirror_mode": {
    "name": "ipython",
    "version": 3
   },
   "file_extension": ".py",
   "mimetype": "text/x-python",
   "name": "python",
   "nbconvert_exporter": "python",
   "pygments_lexer": "ipython3",
   "version": "3.9.11"
  }
 },
 "nbformat": 4,
 "nbformat_minor": 2
}
